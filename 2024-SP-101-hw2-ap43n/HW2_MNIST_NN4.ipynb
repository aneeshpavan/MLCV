{
 "cells": [
  {
   "cell_type": "markdown",
   "metadata": {},
   "source": [
    "### 1. Import Libraries"
   ]
  },
  {
   "cell_type": "code",
   "execution_count": 1,
   "metadata": {},
   "outputs": [],
   "source": [
    "import os\n",
    "import sys\n",
    "import warnings\n",
    "\n",
    "import matplotlib as mpl\n",
    "import matplotlib.pyplot as plt\n",
    "import numpy as np\n",
    "import pandas as pd\n",
    "\n",
    "from sklearn.datasets import fetch_openml\n",
    "from sklearn.preprocessing import LabelEncoder\n",
    "from sklearn.model_selection import train_test_split\n",
    "\n",
    "%matplotlib inline\n",
    "mpl.rc('axes', labelsize=14)\n",
    "mpl.rc('xtick', labelsize=12)\n",
    "mpl.rc('ytick', labelsize=12)"
   ]
  },
  {
   "cell_type": "markdown",
   "metadata": {},
   "source": [
    "### 2. Import from mlcblab"
   ]
  },
  {
   "cell_type": "code",
   "execution_count": 2,
   "metadata": {},
   "outputs": [],
   "source": [
    "from mlcvlab.models.nn4 import NN4\n",
    "from mlcvlab.nn.losses import l2\n",
    "from mlcvlab.optim.sgd import SGD\n",
    "from mlcvlab.optim.sync_sgd import sync_sgd\n",
    "# TODO: Import all the necessary code from mlcvlab package as you need... "
   ]
  },
  {
   "cell_type": "markdown",
   "metadata": {},
   "source": [
    "### 3. Set Seed"
   ]
  },
  {
   "cell_type": "code",
   "execution_count": 3,
   "metadata": {},
   "outputs": [],
   "source": [
    "np.random.seed(42)"
   ]
  },
  {
   "cell_type": "markdown",
   "metadata": {},
   "source": [
    "### 4. Helper functions"
   ]
  },
  {
   "cell_type": "code",
   "execution_count": 4,
   "metadata": {},
   "outputs": [],
   "source": [
    "def load_dataset():\n",
    "    x, y = fetch_openml(\"mnist_784\", version=1, return_X_y=True, as_frame=False)\n",
    "    y = y.astype(np.int64)\n",
    "    return x,y\n",
    "\n",
    "def prepare_data(x, y):\n",
    "    y = y & 1\n",
    "    return x, y\n",
    "\n",
    "def split_train_test(x,y):\n",
    "    X_train, X_test, y_train, y_test = train_test_split(x, y, test_size=10000, random_state=25)\n",
    "    X_train = X_train.astype('float32')\n",
    "    X_test = X_test.astype('float32')\n",
    "    X_train /= 255.0\n",
    "    X_test /= 255.0\n",
    "    return X_train, X_test, y_train, y_test\n",
    "\n",
    "def minibatch(X_train,y_train,K):\n",
    "    batches = X_train.shape[0] / K\n",
    "    X_train_batches = np.array_split(X_train, batches)\n",
    "    y_train_batches = np.array_split(y_train, batches)\n",
    "    return X_train_batches, y_train_batches\n",
    "\n",
    "def initialize_model():\n",
    "    W0 = np.random.randn(785, 500) * np.sqrt(2/785)\n",
    "    W1 = np.random.randn(500, 100) * np.sqrt(2/500)\n",
    "    W2 = np.random.randn(100, 50) * np.sqrt(2/100)\n",
    "    W3 = np.random.randn(50, 1) * np.sqrt(2/50)\n",
    "    print(f\"Size of W0 : {W0.shape}, Size of W1 : {W1.shape}, Size of W2 : {W2.shape}, Size of W3 : {W3.shape}\")\n",
    "    four_layer_nn  = NN4(True, 0.75)\n",
    "    four_layer_nn.layers[0].W = W0\n",
    "    four_layer_nn.layers[1].W = W1\n",
    "    four_layer_nn.layers[2].W = W2\n",
    "    four_layer_nn.layers[3].W = W3\n",
    "\n",
    "    return four_layer_nn\n",
    "\n",
    "def train_model(model, X_train_batches, y_train_batches):\n",
    "    return sync_sgd(model, X_train_batches, y_train_batches, lr=0.01, mode='train')\n",
    "\n",
    "def test_model(model, X_test, y_test):\n",
    "    accuracy = None\n",
    "    total = 0\n",
    "    for i in range(X_test.shape[0]):\n",
    "        X_sample_test = X_test[i, :]\n",
    "        X_sample_test = np.append(X_sample_test, -1)\n",
    "        y_actual = y_test[i]\n",
    "        y_hat = model.nn4(X_sample_test, mode='test')\n",
    "        y_hat = (y_hat >= 0.5) * 1\n",
    "        if y_hat == y_actual:\n",
    "            total = total + 1\n",
    "\n",
    "    accuracy = total/len(X_test)\n",
    "    \n",
    "    return accuracy"
   ]
  },
  {
   "cell_type": "markdown",
   "metadata": {},
   "source": [
    "### 5. Run the program"
   ]
  },
  {
   "cell_type": "code",
   "execution_count": 5,
   "metadata": {},
   "outputs": [
    {
     "name": "stdout",
     "output_type": "stream",
     "text": [
      "Size of W0 : (785, 500), Size of W1 : (500, 100), Size of W2 : (100, 50), Size of W3 : (50, 1)\n",
      "iteration: 0\n",
      "iteration: 1\n",
      "iteration: 2\n",
      "iteration: 3\n",
      "iteration: 4\n",
      "iteration: 5\n",
      "iteration: 6\n",
      "iteration: 7\n",
      "iteration: 8\n",
      "iteration: 9\n",
      "Completed testing model - Accuracy : 0.5796\n"
     ]
    }
   ],
   "source": [
    "#load data\n",
    "x, y = load_dataset()\n",
    "\n",
    "#prepare data\n",
    "x, y = prepare_data(x,y)\n",
    "\n",
    "# split data set\n",
    "X_train, X_test, y_train, y_test = split_train_test(x,y)\n",
    "\n",
    "#initialize model\n",
    "model = initialize_model()\n",
    "\n",
    "K = 100\n",
    "X_train_batches, y_train_batches = minibatch(X_train,y_train,K)\n",
    "\n",
    "model_async = train_model(model, X_train_batches, y_train_batches)  \n",
    "\n",
    "accuracy = test_model(model_async, X_test, y_test)\n",
    "print(f\"Completed testing model - Accuracy : {accuracy}\")"
   ]
  }
 ],
 "metadata": {
  "kernelspec": {
   "display_name": "Python 3",
   "language": "python",
   "name": "python3"
  },
  "language_info": {
   "codemirror_mode": {
    "name": "ipython",
    "version": 3
   },
   "file_extension": ".py",
   "mimetype": "text/x-python",
   "name": "python",
   "nbconvert_exporter": "python",
   "pygments_lexer": "ipython3",
   "version": "3.12.2"
  }
 },
 "nbformat": 4,
 "nbformat_minor": 5
}
